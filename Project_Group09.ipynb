{
 "cells": [
  {
   "cell_type": "markdown",
   "metadata": {},
   "source": [
    "# CMSE 202 Project"
   ]
  },
  {
   "cell_type": "markdown",
   "metadata": {},
   "source": [
    "# Diamonds"
   ]
  },
  {
   "cell_type": "markdown",
   "metadata": {},
   "source": [
    "Group 09: Tech 03"
   ]
  },
  {
   "cell_type": "markdown",
   "metadata": {},
   "source": [
    "Members: Samantha Howard, Matthew Guo, Grayson Miller, Abram Anderson, Josh Hedberg"
   ]
  },
  {
   "cell_type": "markdown",
   "metadata": {},
   "source": [
    "Data set advailable at: https://www.kaggle.com/shivam2503/diamonds"
   ]
  },
  {
   "cell_type": "code",
   "execution_count": null,
   "metadata": {},
   "outputs": [],
   "source": [
    "import pandas as pd\n",
    "import numpy as np\n",
    "import matplotlib.pyplot as plt\n",
    "%matplotlib inline"
   ]
  },
  {
   "cell_type": "markdown",
   "metadata": {},
   "source": [
    "# Data and Cleaning"
   ]
  },
  {
   "cell_type": "code",
   "execution_count": null,
   "metadata": {},
   "outputs": [],
   "source": [
    "diamond = pd.read_csv(\"diamonds.csv\")\n",
    "diamond.head()\n"
   ]
  },
  {
   "cell_type": "code",
   "execution_count": null,
   "metadata": {},
   "outputs": [],
   "source": [
    "diamond.describe()"
   ]
  },
  {
   "cell_type": "code",
   "execution_count": null,
   "metadata": {
    "scrolled": true
   },
   "outputs": [],
   "source": [
    "diamond = diamond.drop('Unnamed: 0', axis = 1)\n",
    "diamond.head()"
   ]
  },
  {
   "cell_type": "code",
   "execution_count": null,
   "metadata": {},
   "outputs": [],
   "source": [
    "diamond_sorted = diamond.sort_values(by = ['price'])\n",
    "diamond_sorted"
   ]
  },
  {
   "cell_type": "markdown",
   "metadata": {},
   "source": [
    "# Data Exploration"
   ]
  },
  {
   "cell_type": "code",
   "execution_count": null,
   "metadata": {},
   "outputs": [],
   "source": [
    "np.unique(diamond['color']) #according to the dataset, D is the 'best' color and J is the 'worst'\n",
    "colors = diamond['color'].replace(['D','E','F','G','H','I','J'], [0,1,2,3,4,5,6]) #replaces the colors with numbers to differentiate them in graphs"
   ]
  },
  {
   "cell_type": "code",
   "execution_count": null,
   "metadata": {},
   "outputs": [],
   "source": [
    "plt.figure(figsize = (10,10))\n",
    "\n",
    "plt.subplot(2,2,1)\n",
    "plt.scatter(np.arange(53940), diamond_sorted['price'], c= colors, s=1)\n",
    "plt.xlabel('Diamond')\n",
    "plt.ylabel('Price ($)')\n",
    "\n",
    "plt.subplot(2,2,2)\n",
    "plt.scatter(diamond_sorted['carat'], diamond_sorted['price'], c= colors, s=1)\n",
    "plt.xlabel('Carat')\n",
    "plt.ylabel('Price ($)')\n",
    "\n",
    "plt.subplot(2,2,3)\n",
    "plt.scatter(diamond_sorted['depth'], diamond_sorted['price'], c= colors, s=1)\n",
    "plt.xlabel('Depth')\n",
    "plt.ylabel('Price ($)')\n",
    "\n",
    "plt.subplot(2,2,4)\n",
    "plt.scatter(diamond_sorted['table'], diamond_sorted['price'], c= colors, s=3)\n",
    "plt.xlabel('Table')\n",
    "plt.ylabel('Price ($)')\n",
    "plt.tight_layout()\n"
   ]
  },
  {
   "cell_type": "markdown",
   "metadata": {},
   "source": [
    "# Model Development and Testing"
   ]
  },
  {
   "cell_type": "code",
   "execution_count": null,
   "metadata": {},
   "outputs": [],
   "source": []
  },
  {
   "cell_type": "markdown",
   "metadata": {},
   "source": [
    "# Presentation of Results"
   ]
  },
  {
   "cell_type": "code",
   "execution_count": null,
   "metadata": {},
   "outputs": [],
   "source": []
  },
  {
   "cell_type": "markdown",
   "metadata": {},
   "source": [
    "# Reproducibility"
   ]
  },
  {
   "cell_type": "code",
   "execution_count": null,
   "metadata": {},
   "outputs": [],
   "source": []
  }
 ],
 "metadata": {
  "kernelspec": {
   "display_name": "Python 3",
   "language": "python",
   "name": "python3"
  },
  "language_info": {
   "codemirror_mode": {
    "name": "ipython",
    "version": 3
   },
   "file_extension": ".py",
   "mimetype": "text/x-python",
   "name": "python",
   "nbconvert_exporter": "python",
   "pygments_lexer": "ipython3",
   "version": "3.8.3"
  }
 },
 "nbformat": 4,
 "nbformat_minor": 2
}
